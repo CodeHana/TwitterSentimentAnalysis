{
 "cells": [
  {
   "cell_type": "code",
   "execution_count": 130,
   "id": "dfc26109",
   "metadata": {},
   "outputs": [],
   "source": [
    "reset -fs"
   ]
  },
  {
   "cell_type": "code",
   "execution_count": 131,
   "id": "c89326e6",
   "metadata": {},
   "outputs": [],
   "source": [
    "import os\n",
    "import pandas as pd"
   ]
  },
  {
   "cell_type": "code",
   "execution_count": 132,
   "id": "44f44139",
   "metadata": {},
   "outputs": [],
   "source": [
    "import tweepy\n",
    "#from tweepy import is_rate_limit_error_message, RateLimitError, TweepError\n"
   ]
  },
  {
   "cell_type": "code",
   "execution_count": 135,
   "id": "6f2da0b4",
   "metadata": {},
   "outputs": [],
   "source": [
    "# TWITTER SETTINGS\n",
    "consumer_key= '1nOr93QNSf2BkxbUqZWz2wsZR'\n",
    "consumer_secret= 'uo1yB4uSgUm4fET9SJrbOIJ96kzKzaEHUFibvevnWfozDcKit3'\n",
    "access_token= '1450560310125809668-FO5rfWDktSDK3Nl17ZNf7nOJYhxXN1'\n",
    "access_token_secret= 'LJ5DgfKMI6Jw3ZTdiubQVSTY9gmF8VgzcLyx6oyPMmt6W'\n",
    "\n",
    "#TWITTER_USER = 'raulgarreta'\n",
    "TWITTER_USER = 'HanaLight3981'"
   ]
  },
  {
   "cell_type": "code",
   "execution_count": 136,
   "id": "526e01d0",
   "metadata": {},
   "outputs": [],
   "source": [
    "fromDate =  \"2019-12-01\"\n",
    "toDate =  \"2021-10-31\"\n",
    "maxResults = 100"
   ]
  },
  {
   "cell_type": "code",
   "execution_count": 137,
   "id": "55ad6733",
   "metadata": {},
   "outputs": [],
   "source": [
    "def limit_handled(c):\n",
    "    while True:\n",
    "        try:\n",
    "            yield c.next()\n",
    "        except tweepy.errors:\n",
    "            time.sleep(60 * 15)\n",
    "            continue\n",
    "        except StopIteration:\n",
    "            break\n",
    "    return c"
   ]
  },
  {
   "cell_type": "code",
   "execution_count": 138,
   "id": "7fc8d075",
   "metadata": {},
   "outputs": [],
   "source": [
    "#OAuth 2 Authentication\n",
    "auth =tweepy.OAuthHandler(consumer_key, consumer_secret)\n",
    "auth.set_access_token(access_token, access_token_secret)\n",
    "api = tweepy.API(auth, wait_on_rate_limit = True)"
   ]
  },
  {
   "cell_type": "code",
   "execution_count": 147,
   "id": "80880ca1",
   "metadata": {},
   "outputs": [
    {
     "name": "stdout",
     "output_type": "stream",
     "text": [
      "Neoclassical Economics is Dead. What Comes Next? | Evonomics #capitalism #economy #economics #neoclassical… https://t.co/Q4yCdwmYwq\n",
      "RT @Aikens_Josh: Imagine being soo dense to think this spending bill is aimed at “helping” you, the American citizen. You’d never survive g…\n",
      "@dbglisson You’re showing your ignorance of economics by spouting nonsense about inflation in regards to the BIF. T… https://t.co/uVHgZRr12y\n"
     ]
    }
   ],
   "source": [
    "#OAuth 2 Authentication\n",
    "auth = tweepy.AppAuthHandler(consumer_key, consumer_secret)\n",
    "api = tweepy.API(auth, wait_on_rate_limit = True)\n"
   ]
  },
  {
   "cell_type": "code",
   "execution_count": 139,
   "id": "61c15d19",
   "metadata": {},
   "outputs": [],
   "source": [
    "# for tweet in tweepy.Cursor(api.search_tweets, q='economics').items(3):\n",
    "#     print(tweet.text)\n",
    "# public_tweets = api.home_timeline()\n",
    "# for tweet in public_tweets:\n",
    "#     print(tweet.text)"
   ]
  },
  {
   "cell_type": "code",
   "execution_count": 216,
   "id": "71bee262",
   "metadata": {},
   "outputs": [],
   "source": [
    "def get_tweets(Topic, Count):\n",
    "    i =0\n",
    "    df=pd.DataFrame()\n",
    "    for tweet in tweepy.Cursor(api.search_tweets, q=Topic, lang=\"en\", count=2).items(2):\n",
    "        print(tweet)\n",
    "        print(i, end='\\r')\n",
    "        df.loc[i, \"Date\"] = tweet.created_at\n",
    "        df.loc[i, \"User\"] = tweet.id_str\n",
    "#         df.loc[i, \"IsVerified\"] = tweet.user.verified\n",
    "        df.loc[i, \"Tweet\"] = tweet.text\n",
    "        df.loc[i, \"Likes\"] = tweet.favorite_count\n",
    "        df.loc[i, \"RT\"] = tweet.retweet_count\n",
    "        df.loc[i, \"mentions\"] = tweet.entities['user_mentions']\n",
    "        df.loc[i, \"hashtags\"] = tweet.entities['hashtags']\n",
    "#         df.loc[i, \"User_location\"]= tweet.user.location\n",
    "\n",
    "        i = i+1\n",
    "        if i> Count:\n",
    "            break\n",
    "        else:\n",
    "            pass\n",
    "    return df"
   ]
  },
  {
   "cell_type": "code",
   "execution_count": 217,
   "id": "39b122dc",
   "metadata": {},
   "outputs": [],
   "source": [
    "#api.search_tweets?"
   ]
  },
  {
   "cell_type": "code",
   "execution_count": 218,
   "id": "3f9dfa63",
   "metadata": {},
   "outputs": [
    {
     "name": "stdout",
     "output_type": "stream",
     "text": [
      "Status(_api=<tweepy.api.API object at 0x7f96c068b160>, _json={'created_at': 'Sun Nov 07 06:50:56 +0000 2021', 'id': 1457239125631766536, 'id_str': '1457239125631766536', 'text': 'RT @economics: China’s export growth beat expectations in October as demand for Chinese-made goods continued to surge despite global supply…', 'truncated': False, 'entities': {'hashtags': [], 'symbols': [], 'user_mentions': [{'screen_name': 'economics', 'name': 'Bloomberg Economics', 'id': 144274618, 'id_str': '144274618', 'indices': [3, 13]}], 'urls': []}, 'metadata': {'iso_language_code': 'en', 'result_type': 'recent'}, 'source': '<a href=\"http://twitter.com/download/android\" rel=\"nofollow\">Twitter for Android</a>', 'in_reply_to_status_id': None, 'in_reply_to_status_id_str': None, 'in_reply_to_user_id': None, 'in_reply_to_user_id_str': None, 'in_reply_to_screen_name': None, 'user': {'id': 708204303668748288, 'id_str': '708204303668748288', 'name': '$SHIB ARMY🇮🇳', 'screen_name': 'sandeep75093900', 'location': 'Mission control', 'description': 'Social activitst, Influencer of crypto, love in with $HIB ARMY, DOGE, SOLANA, WINK , BIT, BTC, SIA. Not an financial advisor...', 'url': 'https://t.co/8iTlhmtprE', 'entities': {'url': {'urls': [{'url': 'https://t.co/8iTlhmtprE', 'expanded_url': 'https://t.me/thebitshibatoken', 'display_url': 't.me/thebitshibatok…', 'indices': [0, 23]}]}, 'description': {'urls': []}}, 'protected': False, 'followers_count': 422, 'friends_count': 1497, 'listed_count': 0, 'created_at': 'Fri Mar 11 08:13:58 +0000 2016', 'favourites_count': 6854, 'utc_offset': None, 'time_zone': None, 'geo_enabled': False, 'verified': False, 'statuses_count': 7983, 'lang': None, 'contributors_enabled': False, 'is_translator': False, 'is_translation_enabled': False, 'profile_background_color': 'F5F8FA', 'profile_background_image_url': None, 'profile_background_image_url_https': None, 'profile_background_tile': False, 'profile_image_url': 'http://pbs.twimg.com/profile_images/1445638917479305225/LIC-HQD1_normal.jpg', 'profile_image_url_https': 'https://pbs.twimg.com/profile_images/1445638917479305225/LIC-HQD1_normal.jpg', 'profile_banner_url': 'https://pbs.twimg.com/profile_banners/708204303668748288/1635832401', 'profile_link_color': '1DA1F2', 'profile_sidebar_border_color': 'C0DEED', 'profile_sidebar_fill_color': 'DDEEF6', 'profile_text_color': '333333', 'profile_use_background_image': True, 'has_extended_profile': True, 'default_profile': True, 'default_profile_image': False, 'following': False, 'follow_request_sent': False, 'notifications': False, 'translator_type': 'none', 'withheld_in_countries': []}, 'geo': None, 'coordinates': None, 'place': None, 'contributors': None, 'retweeted_status': {'created_at': 'Sun Nov 07 06:43:35 +0000 2021', 'id': 1457237274966568960, 'id_str': '1457237274966568960', 'text': 'China’s export growth beat expectations in October as demand for Chinese-made goods continued to surge despite glob… https://t.co/VnJ0Flnm4H', 'truncated': True, 'entities': {'hashtags': [], 'symbols': [], 'user_mentions': [], 'urls': [{'url': 'https://t.co/VnJ0Flnm4H', 'expanded_url': 'https://twitter.com/i/web/status/1457237274966568960', 'display_url': 'twitter.com/i/web/status/1…', 'indices': [117, 140]}]}, 'metadata': {'iso_language_code': 'en', 'result_type': 'recent'}, 'source': '<a href=\"http://www.socialflow.com\" rel=\"nofollow\">SocialFlow</a>', 'in_reply_to_status_id': None, 'in_reply_to_status_id_str': None, 'in_reply_to_user_id': None, 'in_reply_to_user_id_str': None, 'in_reply_to_screen_name': None, 'user': {'id': 144274618, 'id_str': '144274618', 'name': 'Bloomberg Economics', 'screen_name': 'economics', 'location': 'New York, NY', 'description': 'Breaking economics news and analysis from @business, the first word in global business and finance. Sign up for our daily newsletter: https://t.co/ZfJgXYWYEQ', 'url': 'http://t.co/lP1MZLQcCO', 'entities': {'url': {'urls': [{'url': 'http://t.co/lP1MZLQcCO', 'expanded_url': 'http://www.bloomberg.com', 'display_url': 'bloomberg.com', 'indices': [0, 22]}]}, 'description': {'urls': [{'url': 'https://t.co/ZfJgXYWYEQ', 'expanded_url': 'https://trib.al/egax9aI', 'display_url': 'trib.al/egax9aI', 'indices': [134, 157]}]}}, 'protected': False, 'followers_count': 285097, 'friends_count': 1963, 'listed_count': 4708, 'created_at': 'Sat May 15 20:30:58 +0000 2010', 'favourites_count': 127, 'utc_offset': None, 'time_zone': None, 'geo_enabled': False, 'verified': True, 'statuses_count': 127001, 'lang': None, 'contributors_enabled': False, 'is_translator': False, 'is_translation_enabled': False, 'profile_background_color': 'FFFFFF', 'profile_background_image_url': 'http://abs.twimg.com/images/themes/theme1/bg.png', 'profile_background_image_url_https': 'https://abs.twimg.com/images/themes/theme1/bg.png', 'profile_background_tile': False, 'profile_image_url': 'http://pbs.twimg.com/profile_images/991796957583695874/guser-qV_normal.jpg', 'profile_image_url_https': 'https://pbs.twimg.com/profile_images/991796957583695874/guser-qV_normal.jpg', 'profile_banner_url': 'https://pbs.twimg.com/profile_banners/144274618/1525297757', 'profile_link_color': 'ABB8C2', 'profile_sidebar_border_color': 'FFFFFF', 'profile_sidebar_fill_color': 'FFFFFF', 'profile_text_color': '000000', 'profile_use_background_image': True, 'has_extended_profile': False, 'default_profile': False, 'default_profile_image': False, 'following': False, 'follow_request_sent': False, 'notifications': False, 'translator_type': 'none', 'withheld_in_countries': []}, 'geo': None, 'coordinates': None, 'place': None, 'contributors': None, 'is_quote_status': False, 'retweet_count': 2, 'favorite_count': 5, 'favorited': False, 'retweeted': False, 'possibly_sensitive': False, 'lang': 'en'}, 'is_quote_status': False, 'retweet_count': 2, 'favorite_count': 0, 'favorited': False, 'retweeted': False, 'lang': 'en'}, created_at=datetime.datetime(2021, 11, 7, 6, 50, 56, tzinfo=datetime.timezone.utc), id=1457239125631766536, id_str='1457239125631766536', text='RT @economics: China’s export growth beat expectations in October as demand for Chinese-made goods continued to surge despite global supply…', truncated=False, entities={'hashtags': [], 'symbols': [], 'user_mentions': [{'screen_name': 'economics', 'name': 'Bloomberg Economics', 'id': 144274618, 'id_str': '144274618', 'indices': [3, 13]}], 'urls': []}, metadata={'iso_language_code': 'en', 'result_type': 'recent'}, source='Twitter for Android', source_url='http://twitter.com/download/android', in_reply_to_status_id=None, in_reply_to_status_id_str=None, in_reply_to_user_id=None, in_reply_to_user_id_str=None, in_reply_to_screen_name=None, author=User(_api=<tweepy.api.API object at 0x7f96c068b160>, _json={'id': 708204303668748288, 'id_str': '708204303668748288', 'name': '$SHIB ARMY🇮🇳', 'screen_name': 'sandeep75093900', 'location': 'Mission control', 'description': 'Social activitst, Influencer of crypto, love in with $HIB ARMY, DOGE, SOLANA, WINK , BIT, BTC, SIA. Not an financial advisor...', 'url': 'https://t.co/8iTlhmtprE', 'entities': {'url': {'urls': [{'url': 'https://t.co/8iTlhmtprE', 'expanded_url': 'https://t.me/thebitshibatoken', 'display_url': 't.me/thebitshibatok…', 'indices': [0, 23]}]}, 'description': {'urls': []}}, 'protected': False, 'followers_count': 422, 'friends_count': 1497, 'listed_count': 0, 'created_at': 'Fri Mar 11 08:13:58 +0000 2016', 'favourites_count': 6854, 'utc_offset': None, 'time_zone': None, 'geo_enabled': False, 'verified': False, 'statuses_count': 7983, 'lang': None, 'contributors_enabled': False, 'is_translator': False, 'is_translation_enabled': False, 'profile_background_color': 'F5F8FA', 'profile_background_image_url': None, 'profile_background_image_url_https': None, 'profile_background_tile': False, 'profile_image_url': 'http://pbs.twimg.com/profile_images/1445638917479305225/LIC-HQD1_normal.jpg', 'profile_image_url_https': 'https://pbs.twimg.com/profile_images/1445638917479305225/LIC-HQD1_normal.jpg', 'profile_banner_url': 'https://pbs.twimg.com/profile_banners/708204303668748288/1635832401', 'profile_link_color': '1DA1F2', 'profile_sidebar_border_color': 'C0DEED', 'profile_sidebar_fill_color': 'DDEEF6', 'profile_text_color': '333333', 'profile_use_background_image': True, 'has_extended_profile': True, 'default_profile': True, 'default_profile_image': False, 'following': False, 'follow_request_sent': False, 'notifications': False, 'translator_type': 'none', 'withheld_in_countries': []}, id=708204303668748288, id_str='708204303668748288', name='$SHIB ARMY🇮🇳', screen_name='sandeep75093900', location='Mission control', description='Social activitst, Influencer of crypto, love in with $HIB ARMY, DOGE, SOLANA, WINK , BIT, BTC, SIA. Not an financial advisor...', url='https://t.co/8iTlhmtprE', entities={'url': {'urls': [{'url': 'https://t.co/8iTlhmtprE', 'expanded_url': 'https://t.me/thebitshibatoken', 'display_url': 't.me/thebitshibatok…', 'indices': [0, 23]}]}, 'description': {'urls': []}}, protected=False, followers_count=422, friends_count=1497, listed_count=0, created_at=datetime.datetime(2016, 3, 11, 8, 13, 58, tzinfo=datetime.timezone.utc), favourites_count=6854, utc_offset=None, time_zone=None, geo_enabled=False, verified=False, statuses_count=7983, lang=None, contributors_enabled=False, is_translator=False, is_translation_enabled=False, profile_background_color='F5F8FA', profile_background_image_url=None, profile_background_image_url_https=None, profile_background_tile=False, profile_image_url='http://pbs.twimg.com/profile_images/1445638917479305225/LIC-HQD1_normal.jpg', profile_image_url_https='https://pbs.twimg.com/profile_images/1445638917479305225/LIC-HQD1_normal.jpg', profile_banner_url='https://pbs.twimg.com/profile_banners/708204303668748288/1635832401', profile_link_color='1DA1F2', profile_sidebar_border_color='C0DEED', profile_sidebar_fill_color='DDEEF6', profile_text_color='333333', profile_use_background_image=True, has_extended_profile=True, default_profile=True, default_profile_image=False, following=False, follow_request_sent=False, notifications=False, translator_type='none', withheld_in_countries=[]), user=User(_api=<tweepy.api.API object at 0x7f96c068b160>, _json={'id': 708204303668748288, 'id_str': '708204303668748288', 'name': '$SHIB ARMY🇮🇳', 'screen_name': 'sandeep75093900', 'location': 'Mission control', 'description': 'Social activitst, Influencer of crypto, love in with $HIB ARMY, DOGE, SOLANA, WINK , BIT, BTC, SIA. Not an financial advisor...', 'url': 'https://t.co/8iTlhmtprE', 'entities': {'url': {'urls': [{'url': 'https://t.co/8iTlhmtprE', 'expanded_url': 'https://t.me/thebitshibatoken', 'display_url': 't.me/thebitshibatok…', 'indices': [0, 23]}]}, 'description': {'urls': []}}, 'protected': False, 'followers_count': 422, 'friends_count': 1497, 'listed_count': 0, 'created_at': 'Fri Mar 11 08:13:58 +0000 2016', 'favourites_count': 6854, 'utc_offset': None, 'time_zone': None, 'geo_enabled': False, 'verified': False, 'statuses_count': 7983, 'lang': None, 'contributors_enabled': False, 'is_translator': False, 'is_translation_enabled': False, 'profile_background_color': 'F5F8FA', 'profile_background_image_url': None, 'profile_background_image_url_https': None, 'profile_background_tile': False, 'profile_image_url': 'http://pbs.twimg.com/profile_images/1445638917479305225/LIC-HQD1_normal.jpg', 'profile_image_url_https': 'https://pbs.twimg.com/profile_images/1445638917479305225/LIC-HQD1_normal.jpg', 'profile_banner_url': 'https://pbs.twimg.com/profile_banners/708204303668748288/1635832401', 'profile_link_color': '1DA1F2', 'profile_sidebar_border_color': 'C0DEED', 'profile_sidebar_fill_color': 'DDEEF6', 'profile_text_color': '333333', 'profile_use_background_image': True, 'has_extended_profile': True, 'default_profile': True, 'default_profile_image': False, 'following': False, 'follow_request_sent': False, 'notifications': False, 'translator_type': 'none', 'withheld_in_countries': []}, id=708204303668748288, id_str='708204303668748288', name='$SHIB ARMY🇮🇳', screen_name='sandeep75093900', location='Mission control', description='Social activitst, Influencer of crypto, love in with $HIB ARMY, DOGE, SOLANA, WINK , BIT, BTC, SIA. Not an financial advisor...', url='https://t.co/8iTlhmtprE', entities={'url': {'urls': [{'url': 'https://t.co/8iTlhmtprE', 'expanded_url': 'https://t.me/thebitshibatoken', 'display_url': 't.me/thebitshibatok…', 'indices': [0, 23]}]}, 'description': {'urls': []}}, protected=False, followers_count=422, friends_count=1497, listed_count=0, created_at=datetime.datetime(2016, 3, 11, 8, 13, 58, tzinfo=datetime.timezone.utc), favourites_count=6854, utc_offset=None, time_zone=None, geo_enabled=False, verified=False, statuses_count=7983, lang=None, contributors_enabled=False, is_translator=False, is_translation_enabled=False, profile_background_color='F5F8FA', profile_background_image_url=None, profile_background_image_url_https=None, profile_background_tile=False, profile_image_url='http://pbs.twimg.com/profile_images/1445638917479305225/LIC-HQD1_normal.jpg', profile_image_url_https='https://pbs.twimg.com/profile_images/1445638917479305225/LIC-HQD1_normal.jpg', profile_banner_url='https://pbs.twimg.com/profile_banners/708204303668748288/1635832401', profile_link_color='1DA1F2', profile_sidebar_border_color='C0DEED', profile_sidebar_fill_color='DDEEF6', profile_text_color='333333', profile_use_background_image=True, has_extended_profile=True, default_profile=True, default_profile_image=False, following=False, follow_request_sent=False, notifications=False, translator_type='none', withheld_in_countries=[]), geo=None, coordinates=None, place=None, contributors=None, retweeted_status=Status(_api=<tweepy.api.API object at 0x7f96c068b160>, _json={'created_at': 'Sun Nov 07 06:43:35 +0000 2021', 'id': 1457237274966568960, 'id_str': '1457237274966568960', 'text': 'China’s export growth beat expectations in October as demand for Chinese-made goods continued to surge despite glob… https://t.co/VnJ0Flnm4H', 'truncated': True, 'entities': {'hashtags': [], 'symbols': [], 'user_mentions': [], 'urls': [{'url': 'https://t.co/VnJ0Flnm4H', 'expanded_url': 'https://twitter.com/i/web/status/1457237274966568960', 'display_url': 'twitter.com/i/web/status/1…', 'indices': [117, 140]}]}, 'metadata': {'iso_language_code': 'en', 'result_type': 'recent'}, 'source': '<a href=\"http://www.socialflow.com\" rel=\"nofollow\">SocialFlow</a>', 'in_reply_to_status_id': None, 'in_reply_to_status_id_str': None, 'in_reply_to_user_id': None, 'in_reply_to_user_id_str': None, 'in_reply_to_screen_name': None, 'user': {'id': 144274618, 'id_str': '144274618', 'name': 'Bloomberg Economics', 'screen_name': 'economics', 'location': 'New York, NY', 'description': 'Breaking economics news and analysis from @business, the first word in global business and finance. Sign up for our daily newsletter: https://t.co/ZfJgXYWYEQ', 'url': 'http://t.co/lP1MZLQcCO', 'entities': {'url': {'urls': [{'url': 'http://t.co/lP1MZLQcCO', 'expanded_url': 'http://www.bloomberg.com', 'display_url': 'bloomberg.com', 'indices': [0, 22]}]}, 'description': {'urls': [{'url': 'https://t.co/ZfJgXYWYEQ', 'expanded_url': 'https://trib.al/egax9aI', 'display_url': 'trib.al/egax9aI', 'indices': [134, 157]}]}}, 'protected': False, 'followers_count': 285097, 'friends_count': 1963, 'listed_count': 4708, 'created_at': 'Sat May 15 20:30:58 +0000 2010', 'favourites_count': 127, 'utc_offset': None, 'time_zone': None, 'geo_enabled': False, 'verified': True, 'statuses_count': 127001, 'lang': None, 'contributors_enabled': False, 'is_translator': False, 'is_translation_enabled': False, 'profile_background_color': 'FFFFFF', 'profile_background_image_url': 'http://abs.twimg.com/images/themes/theme1/bg.png', 'profile_background_image_url_https': 'https://abs.twimg.com/images/themes/theme1/bg.png', 'profile_background_tile': False, 'profile_image_url': 'http://pbs.twimg.com/profile_images/991796957583695874/guser-qV_normal.jpg', 'profile_image_url_https': 'https://pbs.twimg.com/profile_images/991796957583695874/guser-qV_normal.jpg', 'profile_banner_url': 'https://pbs.twimg.com/profile_banners/144274618/1525297757', 'profile_link_color': 'ABB8C2', 'profile_sidebar_border_color': 'FFFFFF', 'profile_sidebar_fill_color': 'FFFFFF', 'profile_text_color': '000000', 'profile_use_background_image': True, 'has_extended_profile': False, 'default_profile': False, 'default_profile_image': False, 'following': False, 'follow_request_sent': False, 'notifications': False, 'translator_type': 'none', 'withheld_in_countries': []}, 'geo': None, 'coordinates': None, 'place': None, 'contributors': None, 'is_quote_status': False, 'retweet_count': 2, 'favorite_count': 5, 'favorited': False, 'retweeted': False, 'possibly_sensitive': False, 'lang': 'en'}, created_at=datetime.datetime(2021, 11, 7, 6, 43, 35, tzinfo=datetime.timezone.utc), id=1457237274966568960, id_str='1457237274966568960', text='China’s export growth beat expectations in October as demand for Chinese-made goods continued to surge despite glob… https://t.co/VnJ0Flnm4H', truncated=True, entities={'hashtags': [], 'symbols': [], 'user_mentions': [], 'urls': [{'url': 'https://t.co/VnJ0Flnm4H', 'expanded_url': 'https://twitter.com/i/web/status/1457237274966568960', 'display_url': 'twitter.com/i/web/status/1…', 'indices': [117, 140]}]}, metadata={'iso_language_code': 'en', 'result_type': 'recent'}, source='SocialFlow', source_url='http://www.socialflow.com', in_reply_to_status_id=None, in_reply_to_status_id_str=None, in_reply_to_user_id=None, in_reply_to_user_id_str=None, in_reply_to_screen_name=None, author=User(_api=<tweepy.api.API object at 0x7f96c068b160>, _json={'id': 144274618, 'id_str': '144274618', 'name': 'Bloomberg Economics', 'screen_name': 'economics', 'location': 'New York, NY', 'description': 'Breaking economics news and analysis from @business, the first word in global business and finance. Sign up for our daily newsletter: https://t.co/ZfJgXYWYEQ', 'url': 'http://t.co/lP1MZLQcCO', 'entities': {'url': {'urls': [{'url': 'http://t.co/lP1MZLQcCO', 'expanded_url': 'http://www.bloomberg.com', 'display_url': 'bloomberg.com', 'indices': [0, 22]}]}, 'description': {'urls': [{'url': 'https://t.co/ZfJgXYWYEQ', 'expanded_url': 'https://trib.al/egax9aI', 'display_url': 'trib.al/egax9aI', 'indices': [134, 157]}]}}, 'protected': False, 'followers_count': 285097, 'friends_count': 1963, 'listed_count': 4708, 'created_at': 'Sat May 15 20:30:58 +0000 2010', 'favourites_count': 127, 'utc_offset': None, 'time_zone': None, 'geo_enabled': False, 'verified': True, 'statuses_count': 127001, 'lang': None, 'contributors_enabled': False, 'is_translator': False, 'is_translation_enabled': False, 'profile_background_color': 'FFFFFF', 'profile_background_image_url': 'http://abs.twimg.com/images/themes/theme1/bg.png', 'profile_background_image_url_https': 'https://abs.twimg.com/images/themes/theme1/bg.png', 'profile_background_tile': False, 'profile_image_url': 'http://pbs.twimg.com/profile_images/991796957583695874/guser-qV_normal.jpg', 'profile_image_url_https': 'https://pbs.twimg.com/profile_images/991796957583695874/guser-qV_normal.jpg', 'profile_banner_url': 'https://pbs.twimg.com/profile_banners/144274618/1525297757', 'profile_link_color': 'ABB8C2', 'profile_sidebar_border_color': 'FFFFFF', 'profile_sidebar_fill_color': 'FFFFFF', 'profile_text_color': '000000', 'profile_use_background_image': True, 'has_extended_profile': False, 'default_profile': False, 'default_profile_image': False, 'following': False, 'follow_request_sent': False, 'notifications': False, 'translator_type': 'none', 'withheld_in_countries': []}, id=144274618, id_str='144274618', name='Bloomberg Economics', screen_name='economics', location='New York, NY', description='Breaking economics news and analysis from @business, the first word in global business and finance. Sign up for our daily newsletter: https://t.co/ZfJgXYWYEQ', url='http://t.co/lP1MZLQcCO', entities={'url': {'urls': [{'url': 'http://t.co/lP1MZLQcCO', 'expanded_url': 'http://www.bloomberg.com', 'display_url': 'bloomberg.com', 'indices': [0, 22]}]}, 'description': {'urls': [{'url': 'https://t.co/ZfJgXYWYEQ', 'expanded_url': 'https://trib.al/egax9aI', 'display_url': 'trib.al/egax9aI', 'indices': [134, 157]}]}}, protected=False, followers_count=285097, friends_count=1963, listed_count=4708, created_at=datetime.datetime(2010, 5, 15, 20, 30, 58, tzinfo=datetime.timezone.utc), favourites_count=127, utc_offset=None, time_zone=None, geo_enabled=False, verified=True, statuses_count=127001, lang=None, contributors_enabled=False, is_translator=False, is_translation_enabled=False, profile_background_color='FFFFFF', profile_background_image_url='http://abs.twimg.com/images/themes/theme1/bg.png', profile_background_image_url_https='https://abs.twimg.com/images/themes/theme1/bg.png', profile_background_tile=False, profile_image_url='http://pbs.twimg.com/profile_images/991796957583695874/guser-qV_normal.jpg', profile_image_url_https='https://pbs.twimg.com/profile_images/991796957583695874/guser-qV_normal.jpg', profile_banner_url='https://pbs.twimg.com/profile_banners/144274618/1525297757', profile_link_color='ABB8C2', profile_sidebar_border_color='FFFFFF', profile_sidebar_fill_color='FFFFFF', profile_text_color='000000', profile_use_background_image=True, has_extended_profile=False, default_profile=False, default_profile_image=False, following=False, follow_request_sent=False, notifications=False, translator_type='none', withheld_in_countries=[]), user=User(_api=<tweepy.api.API object at 0x7f96c068b160>, _json={'id': 144274618, 'id_str': '144274618', 'name': 'Bloomberg Economics', 'screen_name': 'economics', 'location': 'New York, NY', 'description': 'Breaking economics news and analysis from @business, the first word in global business and finance. Sign up for our daily newsletter: https://t.co/ZfJgXYWYEQ', 'url': 'http://t.co/lP1MZLQcCO', 'entities': {'url': {'urls': [{'url': 'http://t.co/lP1MZLQcCO', 'expanded_url': 'http://www.bloomberg.com', 'display_url': 'bloomberg.com', 'indices': [0, 22]}]}, 'description': {'urls': [{'url': 'https://t.co/ZfJgXYWYEQ', 'expanded_url': 'https://trib.al/egax9aI', 'display_url': 'trib.al/egax9aI', 'indices': [134, 157]}]}}, 'protected': False, 'followers_count': 285097, 'friends_count': 1963, 'listed_count': 4708, 'created_at': 'Sat May 15 20:30:58 +0000 2010', 'favourites_count': 127, 'utc_offset': None, 'time_zone': None, 'geo_enabled': False, 'verified': True, 'statuses_count': 127001, 'lang': None, 'contributors_enabled': False, 'is_translator': False, 'is_translation_enabled': False, 'profile_background_color': 'FFFFFF', 'profile_background_image_url': 'http://abs.twimg.com/images/themes/theme1/bg.png', 'profile_background_image_url_https': 'https://abs.twimg.com/images/themes/theme1/bg.png', 'profile_background_tile': False, 'profile_image_url': 'http://pbs.twimg.com/profile_images/991796957583695874/guser-qV_normal.jpg', 'profile_image_url_https': 'https://pbs.twimg.com/profile_images/991796957583695874/guser-qV_normal.jpg', 'profile_banner_url': 'https://pbs.twimg.com/profile_banners/144274618/1525297757', 'profile_link_color': 'ABB8C2', 'profile_sidebar_border_color': 'FFFFFF', 'profile_sidebar_fill_color': 'FFFFFF', 'profile_text_color': '000000', 'profile_use_background_image': True, 'has_extended_profile': False, 'default_profile': False, 'default_profile_image': False, 'following': False, 'follow_request_sent': False, 'notifications': False, 'translator_type': 'none', 'withheld_in_countries': []}, id=144274618, id_str='144274618', name='Bloomberg Economics', screen_name='economics', location='New York, NY', description='Breaking economics news and analysis from @business, the first word in global business and finance. Sign up for our daily newsletter: https://t.co/ZfJgXYWYEQ', url='http://t.co/lP1MZLQcCO', entities={'url': {'urls': [{'url': 'http://t.co/lP1MZLQcCO', 'expanded_url': 'http://www.bloomberg.com', 'display_url': 'bloomberg.com', 'indices': [0, 22]}]}, 'description': {'urls': [{'url': 'https://t.co/ZfJgXYWYEQ', 'expanded_url': 'https://trib.al/egax9aI', 'display_url': 'trib.al/egax9aI', 'indices': [134, 157]}]}}, protected=False, followers_count=285097, friends_count=1963, listed_count=4708, created_at=datetime.datetime(2010, 5, 15, 20, 30, 58, tzinfo=datetime.timezone.utc), favourites_count=127, utc_offset=None, time_zone=None, geo_enabled=False, verified=True, statuses_count=127001, lang=None, contributors_enabled=False, is_translator=False, is_translation_enabled=False, profile_background_color='FFFFFF', profile_background_image_url='http://abs.twimg.com/images/themes/theme1/bg.png', profile_background_image_url_https='https://abs.twimg.com/images/themes/theme1/bg.png', profile_background_tile=False, profile_image_url='http://pbs.twimg.com/profile_images/991796957583695874/guser-qV_normal.jpg', profile_image_url_https='https://pbs.twimg.com/profile_images/991796957583695874/guser-qV_normal.jpg', profile_banner_url='https://pbs.twimg.com/profile_banners/144274618/1525297757', profile_link_color='ABB8C2', profile_sidebar_border_color='FFFFFF', profile_sidebar_fill_color='FFFFFF', profile_text_color='000000', profile_use_background_image=True, has_extended_profile=False, default_profile=False, default_profile_image=False, following=False, follow_request_sent=False, notifications=False, translator_type='none', withheld_in_countries=[]), geo=None, coordinates=None, place=None, contributors=None, is_quote_status=False, retweet_count=2, favorite_count=5, favorited=False, retweeted=False, possibly_sensitive=False, lang='en'), is_quote_status=False, retweet_count=2, favorite_count=0, favorited=False, retweeted=False, lang='en')\n",
      "0\r"
     ]
    },
    {
     "ename": "ValueError",
     "evalue": "Must have equal len keys and value when setting with an iterable",
     "output_type": "error",
     "traceback": [
      "\u001b[0;31m---------------------------------------------------------------------------\u001b[0m",
      "\u001b[0;31mValueError\u001b[0m                                Traceback (most recent call last)",
      "\u001b[0;32m<ipython-input-218-3c8db5957bfb>\u001b[0m in \u001b[0;36m<module>\u001b[0;34m\u001b[0m\n\u001b[0;32m----> 1\u001b[0;31m \u001b[0mdf\u001b[0m \u001b[0;34m=\u001b[0m \u001b[0mget_tweets\u001b[0m\u001b[0;34m(\u001b[0m\u001b[0;34m\"**economics**\"\u001b[0m\u001b[0;34m,\u001b[0m \u001b[0;36m2\u001b[0m\u001b[0;34m)\u001b[0m\u001b[0;34m\u001b[0m\u001b[0;34m\u001b[0m\u001b[0m\n\u001b[0m",
      "\u001b[0;32m<ipython-input-216-4495397379c7>\u001b[0m in \u001b[0;36mget_tweets\u001b[0;34m(Topic, Count)\u001b[0m\n\u001b[1;32m     16\u001b[0m         \u001b[0mdf\u001b[0m\u001b[0;34m.\u001b[0m\u001b[0mloc\u001b[0m\u001b[0;34m[\u001b[0m\u001b[0mi\u001b[0m\u001b[0;34m,\u001b[0m \u001b[0;34m\"RT\"\u001b[0m\u001b[0;34m]\u001b[0m \u001b[0;34m=\u001b[0m \u001b[0mtweet\u001b[0m\u001b[0;34m.\u001b[0m\u001b[0mretweet_count\u001b[0m\u001b[0;34m\u001b[0m\u001b[0;34m\u001b[0m\u001b[0m\n\u001b[1;32m     17\u001b[0m         \u001b[0mdf\u001b[0m\u001b[0;34m.\u001b[0m\u001b[0mloc\u001b[0m\u001b[0;34m[\u001b[0m\u001b[0mi\u001b[0m\u001b[0;34m,\u001b[0m \u001b[0;34m\"mentions\"\u001b[0m\u001b[0;34m]\u001b[0m \u001b[0;34m=\u001b[0m \u001b[0mtweet\u001b[0m\u001b[0;34m.\u001b[0m\u001b[0mentities\u001b[0m\u001b[0;34m[\u001b[0m\u001b[0;34m'user_mentions'\u001b[0m\u001b[0;34m]\u001b[0m\u001b[0;34m\u001b[0m\u001b[0;34m\u001b[0m\u001b[0m\n\u001b[0;32m---> 18\u001b[0;31m         \u001b[0mdf\u001b[0m\u001b[0;34m.\u001b[0m\u001b[0mloc\u001b[0m\u001b[0;34m[\u001b[0m\u001b[0mi\u001b[0m\u001b[0;34m,\u001b[0m \u001b[0;34m\"hashtags\"\u001b[0m\u001b[0;34m]\u001b[0m \u001b[0;34m=\u001b[0m \u001b[0mtweet\u001b[0m\u001b[0;34m.\u001b[0m\u001b[0mentities\u001b[0m\u001b[0;34m[\u001b[0m\u001b[0;34m'hashtags'\u001b[0m\u001b[0;34m]\u001b[0m\u001b[0;34m\u001b[0m\u001b[0;34m\u001b[0m\u001b[0m\n\u001b[0m\u001b[1;32m     19\u001b[0m \u001b[0;31m#         df.loc[i, \"User_location\"]= tweet.user.location\u001b[0m\u001b[0;34m\u001b[0m\u001b[0;34m\u001b[0m\u001b[0;34m\u001b[0m\u001b[0m\n\u001b[1;32m     20\u001b[0m \u001b[0;34m\u001b[0m\u001b[0m\n",
      "\u001b[0;32m~/opt/anaconda3/lib/python3.8/site-packages/pandas/core/indexing.py\u001b[0m in \u001b[0;36m__setitem__\u001b[0;34m(self, key, value)\u001b[0m\n\u001b[1;32m    690\u001b[0m \u001b[0;34m\u001b[0m\u001b[0m\n\u001b[1;32m    691\u001b[0m         \u001b[0miloc\u001b[0m \u001b[0;34m=\u001b[0m \u001b[0mself\u001b[0m \u001b[0;32mif\u001b[0m \u001b[0mself\u001b[0m\u001b[0;34m.\u001b[0m\u001b[0mname\u001b[0m \u001b[0;34m==\u001b[0m \u001b[0;34m\"iloc\"\u001b[0m \u001b[0;32melse\u001b[0m \u001b[0mself\u001b[0m\u001b[0;34m.\u001b[0m\u001b[0mobj\u001b[0m\u001b[0;34m.\u001b[0m\u001b[0miloc\u001b[0m\u001b[0;34m\u001b[0m\u001b[0;34m\u001b[0m\u001b[0m\n\u001b[0;32m--> 692\u001b[0;31m         \u001b[0miloc\u001b[0m\u001b[0;34m.\u001b[0m\u001b[0m_setitem_with_indexer\u001b[0m\u001b[0;34m(\u001b[0m\u001b[0mindexer\u001b[0m\u001b[0;34m,\u001b[0m \u001b[0mvalue\u001b[0m\u001b[0;34m,\u001b[0m \u001b[0mself\u001b[0m\u001b[0;34m.\u001b[0m\u001b[0mname\u001b[0m\u001b[0;34m)\u001b[0m\u001b[0;34m\u001b[0m\u001b[0;34m\u001b[0m\u001b[0m\n\u001b[0m\u001b[1;32m    693\u001b[0m \u001b[0;34m\u001b[0m\u001b[0m\n\u001b[1;32m    694\u001b[0m     \u001b[0;32mdef\u001b[0m \u001b[0m_validate_key\u001b[0m\u001b[0;34m(\u001b[0m\u001b[0mself\u001b[0m\u001b[0;34m,\u001b[0m \u001b[0mkey\u001b[0m\u001b[0;34m,\u001b[0m \u001b[0maxis\u001b[0m\u001b[0;34m:\u001b[0m \u001b[0mint\u001b[0m\u001b[0;34m)\u001b[0m\u001b[0;34m:\u001b[0m\u001b[0;34m\u001b[0m\u001b[0;34m\u001b[0m\u001b[0m\n",
      "\u001b[0;32m~/opt/anaconda3/lib/python3.8/site-packages/pandas/core/indexing.py\u001b[0m in \u001b[0;36m_setitem_with_indexer\u001b[0;34m(self, indexer, value, name)\u001b[0m\n\u001b[1;32m   1602\u001b[0m                             \u001b[0mindexer\u001b[0m\u001b[0;34m,\u001b[0m \u001b[0mself\u001b[0m\u001b[0;34m.\u001b[0m\u001b[0mobj\u001b[0m\u001b[0;34m.\u001b[0m\u001b[0maxes\u001b[0m\u001b[0;34m\u001b[0m\u001b[0;34m\u001b[0m\u001b[0m\n\u001b[1;32m   1603\u001b[0m                         )\n\u001b[0;32m-> 1604\u001b[0;31m                         \u001b[0mself\u001b[0m\u001b[0;34m.\u001b[0m\u001b[0m_setitem_with_indexer\u001b[0m\u001b[0;34m(\u001b[0m\u001b[0mnew_indexer\u001b[0m\u001b[0;34m,\u001b[0m \u001b[0mvalue\u001b[0m\u001b[0;34m,\u001b[0m \u001b[0mname\u001b[0m\u001b[0;34m)\u001b[0m\u001b[0;34m\u001b[0m\u001b[0;34m\u001b[0m\u001b[0m\n\u001b[0m\u001b[1;32m   1605\u001b[0m \u001b[0;34m\u001b[0m\u001b[0m\n\u001b[1;32m   1606\u001b[0m                         \u001b[0;32mreturn\u001b[0m\u001b[0;34m\u001b[0m\u001b[0;34m\u001b[0m\u001b[0m\n",
      "\u001b[0;32m~/opt/anaconda3/lib/python3.8/site-packages/pandas/core/indexing.py\u001b[0m in \u001b[0;36m_setitem_with_indexer\u001b[0;34m(self, indexer, value, name)\u001b[0m\n\u001b[1;32m   1633\u001b[0m         \u001b[0;32mif\u001b[0m \u001b[0mtake_split_path\u001b[0m\u001b[0;34m:\u001b[0m\u001b[0;34m\u001b[0m\u001b[0;34m\u001b[0m\u001b[0m\n\u001b[1;32m   1634\u001b[0m             \u001b[0;31m# We have to operate column-wise\u001b[0m\u001b[0;34m\u001b[0m\u001b[0;34m\u001b[0m\u001b[0;34m\u001b[0m\u001b[0m\n\u001b[0;32m-> 1635\u001b[0;31m             \u001b[0mself\u001b[0m\u001b[0;34m.\u001b[0m\u001b[0m_setitem_with_indexer_split_path\u001b[0m\u001b[0;34m(\u001b[0m\u001b[0mindexer\u001b[0m\u001b[0;34m,\u001b[0m \u001b[0mvalue\u001b[0m\u001b[0;34m,\u001b[0m \u001b[0mname\u001b[0m\u001b[0;34m)\u001b[0m\u001b[0;34m\u001b[0m\u001b[0;34m\u001b[0m\u001b[0m\n\u001b[0m\u001b[1;32m   1636\u001b[0m         \u001b[0;32melse\u001b[0m\u001b[0;34m:\u001b[0m\u001b[0;34m\u001b[0m\u001b[0;34m\u001b[0m\u001b[0m\n\u001b[1;32m   1637\u001b[0m             \u001b[0mself\u001b[0m\u001b[0;34m.\u001b[0m\u001b[0m_setitem_single_block\u001b[0m\u001b[0;34m(\u001b[0m\u001b[0mindexer\u001b[0m\u001b[0;34m,\u001b[0m \u001b[0mvalue\u001b[0m\u001b[0;34m,\u001b[0m \u001b[0mname\u001b[0m\u001b[0;34m)\u001b[0m\u001b[0;34m\u001b[0m\u001b[0;34m\u001b[0m\u001b[0m\n",
      "\u001b[0;32m~/opt/anaconda3/lib/python3.8/site-packages/pandas/core/indexing.py\u001b[0m in \u001b[0;36m_setitem_with_indexer_split_path\u001b[0;34m(self, indexer, value, name)\u001b[0m\n\u001b[1;32m   1686\u001b[0m                     \u001b[0;32mreturn\u001b[0m \u001b[0mself\u001b[0m\u001b[0;34m.\u001b[0m\u001b[0m_setitem_with_indexer\u001b[0m\u001b[0;34m(\u001b[0m\u001b[0;34m(\u001b[0m\u001b[0mpi\u001b[0m\u001b[0;34m,\u001b[0m \u001b[0minfo_axis\u001b[0m\u001b[0;34m[\u001b[0m\u001b[0;36m0\u001b[0m\u001b[0;34m]\u001b[0m\u001b[0;34m)\u001b[0m\u001b[0;34m,\u001b[0m \u001b[0mvalue\u001b[0m\u001b[0;34m[\u001b[0m\u001b[0;36m0\u001b[0m\u001b[0;34m]\u001b[0m\u001b[0;34m)\u001b[0m\u001b[0;34m\u001b[0m\u001b[0;34m\u001b[0m\u001b[0m\n\u001b[1;32m   1687\u001b[0m \u001b[0;34m\u001b[0m\u001b[0m\n\u001b[0;32m-> 1688\u001b[0;31m                 raise ValueError(\n\u001b[0m\u001b[1;32m   1689\u001b[0m                     \u001b[0;34m\"Must have equal len keys and value \"\u001b[0m\u001b[0;34m\u001b[0m\u001b[0;34m\u001b[0m\u001b[0m\n\u001b[1;32m   1690\u001b[0m                     \u001b[0;34m\"when setting with an iterable\"\u001b[0m\u001b[0;34m\u001b[0m\u001b[0;34m\u001b[0m\u001b[0m\n",
      "\u001b[0;31mValueError\u001b[0m: Must have equal len keys and value when setting with an iterable"
     ]
    }
   ],
   "source": [
    "df = get_tweets(\"**economics**\", 2)"
   ]
  },
  {
   "cell_type": "code",
   "execution_count": 219,
   "id": "97b2dcf2",
   "metadata": {},
   "outputs": [],
   "source": [
    "from searchtweets import collect_results"
   ]
  },
  {
   "cell_type": "code",
   "execution_count": 220,
   "id": "ef7524c7",
   "metadata": {},
   "outputs": [
    {
     "data": {
      "text/html": [
       "<div>\n",
       "<style scoped>\n",
       "    .dataframe tbody tr th:only-of-type {\n",
       "        vertical-align: middle;\n",
       "    }\n",
       "\n",
       "    .dataframe tbody tr th {\n",
       "        vertical-align: top;\n",
       "    }\n",
       "\n",
       "    .dataframe thead th {\n",
       "        text-align: right;\n",
       "    }\n",
       "</style>\n",
       "<table border=\"1\" class=\"dataframe\">\n",
       "  <thead>\n",
       "    <tr style=\"text-align: right;\">\n",
       "      <th></th>\n",
       "      <th>Date</th>\n",
       "      <th>User</th>\n",
       "      <th>Tweet</th>\n",
       "      <th>Likes</th>\n",
       "      <th>RT</th>\n",
       "      <th>mentions</th>\n",
       "    </tr>\n",
       "  </thead>\n",
       "  <tbody>\n",
       "    <tr>\n",
       "      <th>0</th>\n",
       "      <td>2021-11-07 06:49:46+00:00</td>\n",
       "      <td>1457238831736950785</td>\n",
       "      <td>RT @beniaminmincu: Today, the Maiar DEX become...</td>\n",
       "      <td>0.0</td>\n",
       "      <td>1148.0</td>\n",
       "      <td>{'screen_name': 'beniaminmincu', 'name': 'Beni...</td>\n",
       "    </tr>\n",
       "    <tr>\n",
       "      <th>1</th>\n",
       "      <td>2021-11-07 06:49:41+00:00</td>\n",
       "      <td>1457238811797164038</td>\n",
       "      <td>RT @beniaminmincu: Today, the Maiar DEX become...</td>\n",
       "      <td>0.0</td>\n",
       "      <td>1148.0</td>\n",
       "      <td>{'screen_name': 'beniaminmincu', 'name': 'Beni...</td>\n",
       "    </tr>\n",
       "  </tbody>\n",
       "</table>\n",
       "</div>"
      ],
      "text/plain": [
       "                        Date                 User  \\\n",
       "0  2021-11-07 06:49:46+00:00  1457238831736950785   \n",
       "1  2021-11-07 06:49:41+00:00  1457238811797164038   \n",
       "\n",
       "                                               Tweet  Likes      RT  \\\n",
       "0  RT @beniaminmincu: Today, the Maiar DEX become...    0.0  1148.0   \n",
       "1  RT @beniaminmincu: Today, the Maiar DEX become...    0.0  1148.0   \n",
       "\n",
       "                                            mentions  \n",
       "0  {'screen_name': 'beniaminmincu', 'name': 'Beni...  \n",
       "1  {'screen_name': 'beniaminmincu', 'name': 'Beni...  "
      ]
     },
     "execution_count": 220,
     "metadata": {},
     "output_type": "execute_result"
    }
   ],
   "source": [
    "df"
   ]
  },
  {
   "cell_type": "code",
   "execution_count": 169,
   "id": "2f56d2da",
   "metadata": {},
   "outputs": [
    {
     "name": "stdout",
     "output_type": "stream",
     "text": [
      "Authentication Successfull\n"
     ]
    }
   ],
   "source": [
    "import re, tweepy, datetime, time, json, csv\n",
    "from tweepy import OAuthHandler\n",
    "from datetime import datetime, timedelta, timezone\n",
    "\n",
    "\n",
    "#It will fetch all the tweets from current date till the startDate \n",
    "startDate = datetime(2020, 1, 1, tzinfo=timezone(offset=timedelta()))\n",
    "\n",
    "# keys and tokens from my Twitter Dev Console\n",
    "\n",
    "consumer_key= '1nOr93QNSf2BkxbUqZWz2wsZR'\n",
    "consumer_secret= 'uo1yB4uSgUm4fET9SJrbOIJ96kzKzaEHUFibvevnWfozDcKit3'\n",
    "access_token= '1450560310125809668-FO5rfWDktSDK3Nl17ZNf7nOJYhxXN1'\n",
    "access_token_secret= 'LJ5DgfKMI6Jw3ZTdiubQVSTY9gmF8VgzcLyx6oyPMmt6W'\n",
    "\n",
    "# attempt authentication\n",
    "try:\n",
    "    # create OAuthHandler object\n",
    "    auth = OAuthHandler(consumer_key, consumer_secret)\n",
    "    # set access token and secret\n",
    "    auth.set_access_token(access_token, access_token_secret)\n",
    "    # create tweepy API object to fetch tweets\n",
    "    api = tweepy.API(auth, wait_on_rate_limit=True)\n",
    "    #data = self.api.rate_limit_status()\n",
    "    print(\"Authentication Successfull\")\n",
    "except:\n",
    "    print(\"Error: Authentication Failed\")"
   ]
  },
  {
   "cell_type": "code",
   "execution_count": 180,
   "id": "03e184f9",
   "metadata": {},
   "outputs": [
    {
     "name": "stdout",
     "output_type": "stream",
     "text": [
      "Get help from the professional experts :\n",
      "✓Biology\n",
      "✓Homework help\n",
      "✓Calculus help\n",
      "✓Mathematics\n",
      "✓Online class \n",
      "✓Essay… https://t.co/qegvgleJrb\n",
      "There is a kinda inflation in the market where people are having a steady income and supply is shocking.\n",
      "Economy in… https://t.co/32ol50W11l\n"
     ]
    }
   ],
   "source": [
    "\n",
    "query = \"economics\" #keywork-only tweets that matches keyword will be fetched\\\n",
    "#startDate = datetime(2021, 2, 1, tzinfo=timezone(offset=timedelta()))\n",
    "endDate = datetime(2021,2,2, tzinfo=timezone(offset=timedelta()))\n",
    "tweets = []\n",
    "\n",
    "for tweet in tweepy.Cursor(api.search_tweets, q=query, lang=\"en\").items(2):\n",
    "            print(tweet.text)\n",
    "            if tweet.created_at > startDate and tweet.created_at < endDate:\n",
    "                print(tweet.text)\n",
    "                cleaned_tweet = clean_tweet(tweet.text)\n",
    "        \n",
    "                #To avoid repitition on tweets\n",
    "                if cleaned_tweet not in tweets:\n",
    "                    tweets.append(cleaned_tweet)"
   ]
  },
  {
   "cell_type": "code",
   "execution_count": 179,
   "id": "ff348dd3",
   "metadata": {},
   "outputs": [
    {
     "data": {
      "text/plain": [
       "[]"
      ]
     },
     "execution_count": 179,
     "metadata": {},
     "output_type": "execute_result"
    }
   ],
   "source": [
    "tweets"
   ]
  },
  {
   "cell_type": "code",
   "execution_count": null,
   "id": "8bf7ac7e",
   "metadata": {},
   "outputs": [],
   "source": [
    "#Add consumer_key. secret and bearer_token from twitter developer account\n",
    "\n",
    "import searchtweets, yaml\n",
    "from searchtweets import load_credentials\n",
    "\n",
    "    search_tweets_api = dict(\n",
    "        account_type = 'premium',\n",
    "        endpoint = 'https://api.twitter.com/1.1/tweets/search/fullarchive/development.json',\n",
    "        consumer_key = '',\n",
    "        consumer_secret = '',\n",
    "        bearer_token = ''\n",
    "    )\n",
    ")\n",
    "with open('twitter_keys_fullarchive.yaml', 'w') as config_file:\n",
    "    yaml.dump(config, config_file, default_flow_style=False)\n",
    "\n",
    "\n",
    "premium_search_args = load_credentials(\"twitter_keys_fullarchive.yaml\",\n",
    "                                       yaml_key=\"search_tweets_api\",\n",
    "                                       env_overwrite=False)\n",
    "print(premium_search_args)"
   ]
  }
 ],
 "metadata": {
  "kernelspec": {
   "display_name": "Python 3.8.8 64-bit ('base': conda)",
   "language": "python",
   "name": "python388jvsc74a57bd092b2d4e8b25642bb78c007d7a6f40d2ec1a44635e9e21bb5f68c2c2936c06aab"
  },
  "language_info": {
   "codemirror_mode": {
    "name": "ipython",
    "version": 3
   },
   "file_extension": ".py",
   "mimetype": "text/x-python",
   "name": "python",
   "nbconvert_exporter": "python",
   "pygments_lexer": "ipython3",
   "version": "3.8.8"
  }
 },
 "nbformat": 4,
 "nbformat_minor": 5
}
